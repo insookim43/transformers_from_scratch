{
 "cells": [
  {
   "cell_type": "code",
   "execution_count": 1,
   "metadata": {},
   "outputs": [
    {
     "data": {
      "application/vnd.jupyter.widget-view+json": {
       "model_id": "34057c5b190045d9a2f546ddafa941ed",
       "version_major": 2,
       "version_minor": 0
      },
      "text/plain": [
       "tokenizer_config.json:   0%|          | 0.00/48.0 [00:00<?, ?B/s]"
      ]
     },
     "metadata": {},
     "output_type": "display_data"
    },
    {
     "data": {
      "application/vnd.jupyter.widget-view+json": {
       "model_id": "88384c530d2a4be393bfdc9998698768",
       "version_major": 2,
       "version_minor": 0
      },
      "text/plain": [
       "vocab.txt:   0%|          | 0.00/232k [00:00<?, ?B/s]"
      ]
     },
     "metadata": {},
     "output_type": "display_data"
    },
    {
     "data": {
      "application/vnd.jupyter.widget-view+json": {
       "model_id": "8ecde32d122d479f98376ccc3a419d59",
       "version_major": 2,
       "version_minor": 0
      },
      "text/plain": [
       "tokenizer.json:   0%|          | 0.00/466k [00:00<?, ?B/s]"
      ]
     },
     "metadata": {},
     "output_type": "display_data"
    },
    {
     "name": "stderr",
     "output_type": "stream",
     "text": [
      "/usr/local/lib/python3.11/site-packages/huggingface_hub/file_download.py:1132: FutureWarning: `resume_download` is deprecated and will be removed in version 1.0.0. Downloads always resume when possible. If you want to force a new download, use `force_download=True`.\n",
      "  warnings.warn(\n"
     ]
    },
    {
     "data": {
      "application/vnd.jupyter.widget-view+json": {
       "model_id": "1ec6ffb5f54947d8ba79263f22c6c684",
       "version_major": 2,
       "version_minor": 0
      },
      "text/plain": [
       "config.json:   0%|          | 0.00/570 [00:00<?, ?B/s]"
      ]
     },
     "metadata": {},
     "output_type": "display_data"
    },
    {
     "name": "stdout",
     "output_type": "stream",
     "text": [
      "['this', 'is', 'an', 'example', 'of', 'the', 'bert', 'token', '##izer']\n"
     ]
    }
   ],
   "source": [
    "from transformers import BertTokenizer\n",
    "\n",
    "tokenizer = BertTokenizer.from_pretrained(\"bert-base-uncased\")\n",
    "tokens = tokenizer.tokenize(\"This is an example of the bert tokenizer\")\n",
    "print(tokens)\n",
    "# ['this', 'is', 'an', 'example', 'of', 'the', 'bert', 'token', '##izer']\n"
   ]
  },
  {
   "cell_type": "code",
   "execution_count": 2,
   "metadata": {},
   "outputs": [
    {
     "name": "stdout",
     "output_type": "stream",
     "text": [
      "[2023, 2003, 2019, 2742, 1997, 1996, 14324, 19204, 17629]\n"
     ]
    }
   ],
   "source": [
    "\n",
    "token_ids = tokenizer.convert_tokens_to_ids(tokens)\n",
    "print(token_ids)\n",
    "# [2023, 2003, 2019, 2742, 1997, 1996, 14324, 19204, 17629]\n"
   ]
  },
  {
   "cell_type": "code",
   "execution_count": 3,
   "metadata": {},
   "outputs": [
    {
     "name": "stdout",
     "output_type": "stream",
     "text": [
      "[101, 2023, 2003, 2019, 2742, 1997, 1996, 14324, 19204, 17629, 102]\n"
     ]
    }
   ],
   "source": [
    "\n",
    "token_ids = tokenizer.encode(\"This is an example of the bert tokenizer\")\n",
    "print(token_ids)\n",
    "# [101, 2023, 2003, 2019, 2742, 1997, 1996, 14324, 19204, 17629, 102]\n"
   ]
  },
  {
   "cell_type": "code",
   "execution_count": 4,
   "metadata": {},
   "outputs": [
    {
     "name": "stdout",
     "output_type": "stream",
     "text": [
      "['[CLS]', 'this', 'is', 'an', 'example', 'of', 'the', 'bert', 'token', '##izer', '[SEP]']\n"
     ]
    }
   ],
   "source": [
    "\n",
    "tokens = tokenizer.convert_ids_to_tokens(token_ids)\n",
    "print(tokens)\n",
    "# ['[CLS]', 'this', 'is', 'an', 'example', 'of', 'the', 'bert', 'token', '##izer', '[SEP]']\n"
   ]
  },
  {
   "cell_type": "code",
   "execution_count": 5,
   "metadata": {},
   "outputs": [
    {
     "data": {
      "application/vnd.jupyter.widget-view+json": {
       "model_id": "1db80d87ff8f40db87630853d9b8014d",
       "version_major": 2,
       "version_minor": 0
      },
      "text/plain": [
       "model.safetensors:   0%|          | 0.00/440M [00:00<?, ?B/s]"
      ]
     },
     "metadata": {},
     "output_type": "display_data"
    },
    {
     "name": "stdout",
     "output_type": "stream",
     "text": [
      "torch.Size([1, 768])\n"
     ]
    }
   ],
   "source": [
    "\n",
    "import torch\n",
    "from transformers import BertModel\n",
    "\n",
    "model = BertModel.from_pretrained(\"bert-base-uncased\")\n",
    "\n",
    "# get the embedding vector for the word \"example\"\n",
    "example_token_id = tokenizer.convert_tokens_to_ids([\"example\"])[0]\n",
    "example_embedding = model.embeddings.word_embeddings(torch.tensor([example_token_id]))\n",
    "\n",
    "print(example_embedding.shape)\n",
    "# torch.Size([1, 768])"
   ]
  },
  {
   "cell_type": "code",
   "execution_count": 1,
   "metadata": {},
   "outputs": [
    {
     "name": "stdout",
     "output_type": "stream",
     "text": [
      "Original float32 tensor:\n",
      "tensor([[-1.2445, -1.0739, -0.1323, -0.6470],\n",
      "        [-0.8300, -1.3338,  1.4549, -0.2420]])\n",
      "Shape: torch.Size([2, 4])\n",
      "\n",
      "Converted to float64 tensor:\n",
      "tensor([[-1.2431e-02, -1.6498e-04],\n",
      "        [-5.2191e-02, -8.8639e-08]], dtype=torch.float64)\n",
      "Shape: torch.Size([2, 2])\n",
      "\n",
      "Converted back to float32 tensor:\n",
      "tensor([[-1.2445, -1.0739, -0.1323, -0.6470],\n",
      "        [-0.8300, -1.3338,  1.4549, -0.2420]])\n",
      "Shape: torch.Size([2, 4])\n"
     ]
    }
   ],
   "source": []
  },
  {
   "cell_type": "code",
   "execution_count": null,
   "metadata": {},
   "outputs": [],
   "source": []
  }
 ],
 "metadata": {
  "kernelspec": {
   "display_name": "Python 3",
   "language": "python",
   "name": "python3"
  },
  "language_info": {
   "codemirror_mode": {
    "name": "ipython",
    "version": 3
   },
   "file_extension": ".py",
   "mimetype": "text/x-python",
   "name": "python",
   "nbconvert_exporter": "python",
   "pygments_lexer": "ipython3",
   "version": "3.11.7"
  }
 },
 "nbformat": 4,
 "nbformat_minor": 2
}
